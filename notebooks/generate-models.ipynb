{
 "nbformat": 4,
 "nbformat_minor": 0,
 "metadata": {
  "colab": {
   "provenance": [],
   "gpuType": "T4"
  },
  "kernelspec": {
   "name": "python3",
   "display_name": "Python 3"
  },
  "language_info": {
   "name": "python"
  },
  "accelerator": "GPU"
 },
 "cells": [
  {
   "cell_type": "code",
   "execution_count": 2,
   "metadata": {
    "id": "GFKruyM3VCC9"
   },
   "source": [
    "import pandas as pd\n",
    "from sklearn.preprocessing import StandardScaler, LabelEncoder\n",
    "from sklearn.neighbors import NearestNeighbors"
   ],
   "outputs": []
  },
  {
   "cell_type": "code",
   "source": [
    "data = pd.read_csv('user_data_clean.csv')"
   ],
   "metadata": {
    "id": "Rz4b2hCW1hIs"
   },
   "execution_count": 25,
   "outputs": []
  },
  {
   "cell_type": "code",
   "source": [
    "data.head()"
   ],
   "metadata": {
    "colab": {
     "base_uri": "https://localhost:8080/",
     "height": 360
    },
    "id": "vRjD-LaG1j9W",
    "outputId": "d54f0811-8957-4ba4-c5da-71d67928e83e"
   },
   "execution_count": 26,
   "outputs": []
  },
  {
   "cell_type": "code",
   "source": [
    "categorical_features = ['gender', 'alcohol', 'dist_from_uni', 'smoking', 'food_pref', 'cul_skills', 'bhk_1',\t'bhk_2',\t'bhk_3',\t'bhk_4']\n"
   ],
   "metadata": {
    "id": "ZQBTIP-E1k6z"
   },
   "execution_count": 27,
   "outputs": []
  },
  {
   "cell_type": "code",
   "source": [
    "filtered_data = data[categorical_features]"
   ],
   "metadata": {
    "id": "E9gzCxsO32s4"
   },
   "execution_count": 28,
   "outputs": []
  },
  {
   "cell_type": "code",
   "source": [
    "filtered_data.head()"
   ],
   "metadata": {
    "colab": {
     "base_uri": "https://localhost:8080/",
     "height": 206
    },
    "id": "pvqDaqd135yB",
    "outputId": "6f96439a-8ffc-43a5-f083-bdaf7e6cb063"
   },
   "execution_count": 29,
   "outputs": []
  },
  {
   "cell_type": "code",
   "source": [
    "scaler = StandardScaler()\n",
    "filtered_data['dist_from_uni'] = scaler.fit_transform(filtered_data[['dist_from_uni']])"
   ],
   "metadata": {
    "colab": {
     "base_uri": "https://localhost:8080/"
    },
    "id": "qXIpLdWF3798",
    "outputId": "582b105c-cdda-44fa-8483-642f7d660d22"
   },
   "execution_count": 30,
   "outputs": []
  },
  {
   "cell_type": "code",
   "source": [
    "filtered_data.head()"
   ],
   "metadata": {
    "colab": {
     "base_uri": "https://localhost:8080/",
     "height": 206
    },
    "id": "yCoyng6Z4M57",
    "outputId": "6e3fdc91-bf2c-47f6-e50a-6e97950661ae"
   },
   "execution_count": 31,
   "outputs": []
  },
  {
   "cell_type": "code",
   "source": [
    "X = filtered_data\n",
    "knn = NearestNeighbors(n_neighbors=5, algorithm='auto')\n",
    "knn.fit(X)"
   ],
   "metadata": {
    "colab": {
     "base_uri": "https://localhost:8080/",
     "height": 75
    },
    "id": "TVQvV5z14P-A",
    "outputId": "eeef1423-d396-4138-aeba-23f977c14e2b"
   },
   "execution_count": 32,
   "outputs": []
  },
  {
   "cell_type": "code",
   "source": [
    "def find_closest_roommates(input_features):\n",
    "    input_df = pd.DataFrame([input_features], columns=categorical_features)\n",
    "    input_df['dist_from_uni'] = scaler.transform(input_df[['dist_from_uni']])\n",
    "\n",
    "    distances, indices = knn.kneighbors(input_df)\n",
    "    closest_roommates = data.iloc[indices[0]]\n",
    "\n",
    "    return closest_roommates\n",
    "\n",
    "input_roommate = {\n",
    "    'gender': '0',\n",
    "    'dist_from_uni': 0.5,\n",
    "    'alcohol': '0',\n",
    "    'smoking': '0',\n",
    "    'food_pref': '0',\n",
    "    'cul_skills': '1',\n",
    "    'bhk_1':'1',\n",
    "    'bhk_2':'1',\n",
    "    'bhk_3':'0',\n",
    "    'bhk_4':'1',\n",
    "}\n"
   ],
   "metadata": {
    "id": "hIpn3Wth4Xoq"
   },
   "execution_count": 33,
   "outputs": []
  },
  {
   "cell_type": "code",
   "source": [
    "input_roommate_df = pd.DataFrame([input_roommate])\n",
    "\n",
    "closest_roommates = find_closest_roommates(input_roommate)\n",
    "print(closest_roommates[['name'] + categorical_features])"
   ],
   "metadata": {
    "colab": {
     "base_uri": "https://localhost:8080/"
    },
    "id": "NgsgzGYg4rEC",
    "outputId": "aee69c96-7004-49bb-e3dc-9e309320da92"
   },
   "execution_count": 34,
   "outputs": []
  },
  {
   "cell_type": "code",
   "source": [
    "import joblib\n",
    "joblib.dump(knn, 'knn_model.joblib')\n",
    "joblib.dump(scaler, 'scaler.joblib')\n"
   ],
   "metadata": {
    "colab": {
     "base_uri": "https://localhost:8080/"
    },
    "id": "pwLSvUJM49Td",
    "outputId": "aa21137e-22b5-4a38-d3fc-9e713d5aa693"
   },
   "execution_count": 35,
   "outputs": []
  },
  {
   "cell_type": "code",
   "source": [],
   "metadata": {
    "id": "WoRKOgUb7RuQ"
   },
   "execution_count": null,
   "outputs": []
  }
 ]
}
